{
 "cells": [
  {
   "cell_type": "code",
   "execution_count": 52,
   "metadata": {
    "_uuid": "8f2839f25d086af736a60e9eeb907d3b93b6e0e5",
    "_cell_guid": "b1076dfc-b9ad-4769-8c92-a6c4dae69d19",
    "trusted": true
   },
   "outputs": [],
   "source": [
    "import numpy as np # linear algebra\n",
    "import pandas as pd # data processing, CSV file I/O (e.g. pd.read_csv)\n",
    "import keras\n",
    "from keras.datasets import mnist\n",
    "from keras.models import Sequential\n",
    "from keras.layers import Dense, Dropout, Flatten\n",
    "from keras.layers import Conv2D, MaxPooling2D\n",
    "from keras import backend as K\n"
   ]
  },
  {
   "cell_type": "code",
   "execution_count": 53,
   "metadata": {
    "_cell_guid": "79c7e3d0-c299-4dcb-8224-4455121ee9b0",
    "_uuid": "d629ff2d2480ee46fbb7e2d37f6b5fab8052498a",
    "trusted": true
   },
   "outputs": [],
   "source": [
    "train_set = pd.read_csv(\"../input/train.csv\")\n",
    "test_set = pd.read_csv(\"../input/test.csv\")"
   ]
  },
  {
   "cell_type": "code",
   "execution_count": 54,
   "metadata": {
    "trusted": true,
    "_uuid": "4e20e6cfffa87ab9e89bd0e7df104d664f1f0e6e"
   },
   "outputs": [
    {
     "name": "stderr",
     "output_type": "stream",
     "text": [
      "/opt/conda/lib/python3.6/site-packages/sklearn/preprocessing/data.py:625: DataConversionWarning: Data with input dtype int64 were all converted to float64 by StandardScaler.\n  return self.partial_fit(X, y)\n/opt/conda/lib/python3.6/site-packages/ipykernel_launcher.py:6: DataConversionWarning: Data with input dtype int64 were all converted to float64 by StandardScaler.\n  \n/opt/conda/lib/python3.6/site-packages/ipykernel_launcher.py:7: DataConversionWarning: Data with input dtype int64 were all converted to float64 by StandardScaler.\n  import sys\n"
     ]
    }
   ],
   "source": [
    "from sklearn.preprocessing import StandardScaler\n",
    "y_train = train_set.label\n",
    "train_set = train_set.drop('label', axis=1)\n",
    "scaler = StandardScaler()\n",
    "scaler.fit(train_set)\n",
    "train_scaled = scaler.transform(train_set)\n",
    "test_scaled = scaler.transform(test_set)"
   ]
  },
  {
   "cell_type": "code",
   "execution_count": 55,
   "metadata": {
    "trusted": true,
    "_uuid": "e9e6f5a9ab9086a4d97edffc2a04bb7825990efe"
   },
   "outputs": [],
   "source": [
    "batch_size = 128\n",
    "num_classes = 10\n",
    "epochs = 30"
   ]
  },
  {
   "cell_type": "code",
   "execution_count": 56,
   "metadata": {
    "trusted": true,
    "_uuid": "8f1918e170c02559e0f5d9bd73b89b86b4fc9fe7"
   },
   "outputs": [],
   "source": [
    "# input image dimensions\n",
    "img_rows, img_cols = 28, 28"
   ]
  },
  {
   "cell_type": "code",
   "execution_count": 57,
   "metadata": {
    "trusted": true,
    "_uuid": "09332d2812c956ac5cfce186660fcb25facfb729"
   },
   "outputs": [],
   "source": [
    "if K.image_data_format() == 'channels_first':\n",
    "    train_scaled = train_scaled.reshape(train_scaled.shape[0], 1, img_rows, img_cols)\n",
    "    test_scaled = test_scaled.reshape(test_scaled.shape[0], 1, img_rows, img_cols)\n",
    "    input_shape = (1, img_rows, img_cols)\n",
    "else:\n",
    "    train_scaled = train_scaled.reshape(train_scaled.shape[0], img_rows, img_cols, 1)\n",
    "    test_scaled = test_scaled.reshape(test_scaled.shape[0], img_rows, img_cols, 1)\n",
    "    input_shape = (img_rows, img_cols, 1)"
   ]
  },
  {
   "cell_type": "code",
   "execution_count": 58,
   "metadata": {
    "trusted": true,
    "_uuid": "a7da877d6174d1edaa54d29a60c855d8b461f09b"
   },
   "outputs": [],
   "source": [
    "train_scaled = train_scaled.astype('float32')\n",
    "test_scaled = test_scaled.astype('float32')\n",
    "train_scaled /= 255\n",
    "test_scaled /= 255"
   ]
  },
  {
   "cell_type": "code",
   "execution_count": 59,
   "metadata": {
    "trusted": true,
    "_uuid": "2d3adf78faf449874c14693a455642f1294f6360"
   },
   "outputs": [],
   "source": [
    "y_train = keras.utils.to_categorical(y_train, num_classes)"
   ]
  },
  {
   "cell_type": "code",
   "execution_count": 60,
   "metadata": {
    "trusted": true,
    "_uuid": "fa9c9da6337be1d0e9d6abfb084b02aa93887122"
   },
   "outputs": [],
   "source": [
    "model = Sequential()\n",
    "model.add(Conv2D(32, kernel_size=(3, 3),\n",
    "activation='relu',\n",
    "input_shape=input_shape))\n",
    "#model.add(Conv2D(64, (3, 3), activation='relu'))\n",
    "model.add(Conv2D(filters=32,kernel_size=5,activation='relu'))\n",
    "model.add(MaxPooling2D(pool_size=(2, 2)))\n",
    "model.add(Dropout(0.25))\n",
    "model.add(Flatten())\n",
    "model.add(Dense(128, activation='relu'))\n",
    "model.add(Dropout(0.5))\n",
    "model.add(Dense(num_classes, activation='softmax'))"
   ]
  },
  {
   "cell_type": "code",
   "execution_count": 61,
   "metadata": {
    "trusted": true,
    "_uuid": "047f529ee120eabfd8f2e8bb2621b37fc9834486"
   },
   "outputs": [],
   "source": [
    "model.compile(loss=keras.losses.categorical_crossentropy,\n",
    "optimizer=keras.optimizers.Adadelta(),\n",
    "metrics=['accuracy'])"
   ]
  },
  {
   "cell_type": "code",
   "execution_count": 62,
   "metadata": {
    "trusted": true,
    "_uuid": "2cffe32412a36f19de579139982ba8da09dbc69b"
   },
   "outputs": [
    {
     "name": "stdout",
     "output_type": "stream",
     "text": [
      "Epoch 1/30\n42000/42000 [==============================] - 6s 133us/step - loss: 1.3390 - acc: 0.5319\nEpoch 2/30\n42000/42000 [==============================] - 5s 119us/step - loss: 0.2853 - acc: 0.9137\nEpoch 3/30\n42000/42000 [==============================] - 5s 119us/step - loss: 0.1766 - acc: 0.9476\nEpoch 4/30\n42000/42000 [==============================] - 5s 119us/step - loss: 0.1333 - acc: 0.9609\nEpoch 5/30\n42000/42000 [==============================] - 5s 118us/step - loss: 0.1109 - acc: 0.9670\nEpoch 6/30\n42000/42000 [==============================] - 5s 118us/step - loss: 0.1005 - acc: 0.9700\nEpoch 7/30\n42000/42000 [==============================] - 5s 118us/step - loss: 0.0867 - acc: 0.9741\nEpoch 8/30\n42000/42000 [==============================] - 5s 117us/step - loss: 0.0800 - acc: 0.9749\nEpoch 9/30\n42000/42000 [==============================] - 5s 118us/step - loss: 0.0743 - acc: 0.9775\nEpoch 10/30\n42000/42000 [==============================] - 5s 117us/step - loss: 0.0692 - acc: 0.9788\nEpoch 11/30\n42000/42000 [==============================] - 5s 116us/step - loss: 0.0652 - acc: 0.9808\nEpoch 12/30\n42000/42000 [==============================] - 5s 117us/step - loss: 0.0618 - acc: 0.9816\nEpoch 13/30\n42000/42000 [==============================] - 5s 117us/step - loss: 0.0570 - acc: 0.9827\nEpoch 14/30\n42000/42000 [==============================] - 5s 117us/step - loss: 0.0550 - acc: 0.9837\nEpoch 15/30\n42000/42000 [==============================] - 5s 117us/step - loss: 0.0531 - acc: 0.9837\nEpoch 16/30\n42000/42000 [==============================] - 5s 116us/step - loss: 0.0518 - acc: 0.9841\nEpoch 17/30\n42000/42000 [==============================] - 5s 116us/step - loss: 0.0485 - acc: 0.9847\nEpoch 18/30\n42000/42000 [==============================] - 5s 118us/step - loss: 0.0479 - acc: 0.9848\nEpoch 19/30\n42000/42000 [==============================] - 5s 118us/step - loss: 0.0457 - acc: 0.9860\nEpoch 20/30\n42000/42000 [==============================] - 5s 117us/step - loss: 0.0444 - acc: 0.9864\nEpoch 21/30\n42000/42000 [==============================] - 5s 116us/step - loss: 0.0399 - acc: 0.9875\nEpoch 22/30\n42000/42000 [==============================] - 5s 116us/step - loss: 0.0402 - acc: 0.9877\nEpoch 23/30\n42000/42000 [==============================] - 5s 116us/step - loss: 0.0409 - acc: 0.9871\nEpoch 24/30\n42000/42000 [==============================] - 5s 116us/step - loss: 0.0385 - acc: 0.9883\nEpoch 25/30\n42000/42000 [==============================] - 5s 116us/step - loss: 0.0369 - acc: 0.9884\nEpoch 26/30\n42000/42000 [==============================] - 5s 116us/step - loss: 0.0367 - acc: 0.9885\nEpoch 27/30\n42000/42000 [==============================] - 5s 117us/step - loss: 0.0361 - acc: 0.9888\nEpoch 28/30\n42000/42000 [==============================] - 5s 116us/step - loss: 0.0360 - acc: 0.9890\nEpoch 29/30\n42000/42000 [==============================] - 5s 116us/step - loss: 0.0347 - acc: 0.9889\nEpoch 30/30\n42000/42000 [==============================] - 5s 116us/step - loss: 0.0340 - acc: 0.9895\n"
     ]
    },
    {
     "data": {
      "text/plain": [
       "<keras.callbacks.History at 0x7fcd66069240>"
      ]
     },
     "execution_count": 62,
     "metadata": {},
     "output_type": "execute_result"
    }
   ],
   "source": [
    "model.fit(train_scaled, y_train,\n",
    "batch_size=batch_size,\n",
    "epochs=epochs,\n",
    "verbose=1\n",
    ")"
   ]
  },
  {
   "cell_type": "code",
   "execution_count": 63,
   "metadata": {
    "trusted": true,
    "_uuid": "4b7fa3457a7b89c56d43005e7e773c24ab7d470e"
   },
   "outputs": [],
   "source": [
    "results = model.predict(test_scaled)"
   ]
  },
  {
   "cell_type": "code",
   "execution_count": 64,
   "metadata": {
    "trusted": true,
    "_uuid": "b6ef3ad262d7fa4f584bdb00ff7ad55548339ea6"
   },
   "outputs": [],
   "source": [
    "results = np.argmax(results,axis = 1)\n",
    "\n",
    "results = pd.Series(results,name=\"Label\")\n",
    "\n"
   ]
  },
  {
   "cell_type": "code",
   "execution_count": 65,
   "metadata": {
    "trusted": true,
    "_uuid": "1adef87a110cc728ce2b97b3fe109e431c37f2f7"
   },
   "outputs": [],
   "source": [
    "submission = pd.concat([pd.Series(range(1,28001),name = \"ImageId\"),results],axis = 1)\n",
    "\n",
    "submission.to_csv(\"MNIST-CNN.csv\",index=False)\n"
   ]
  },
  {
   "cell_type": "code",
   "execution_count": null,
   "metadata": {
    "trusted": true,
    "_uuid": "52b395798e3426859c4466ce347466923648ba82"
   },
   "outputs": [],
   "source": [
    ""
   ]
  }
 ],
 "metadata": {
  "kernelspec": {
   "display_name": "Python 3",
   "language": "python",
   "name": "python3"
  },
  "language_info": {
   "name": "python",
   "version": "3.6.6",
   "mimetype": "text/x-python",
   "codemirror_mode": {
    "name": "ipython",
    "version": 3
   },
   "pygments_lexer": "ipython3",
   "nbconvert_exporter": "python",
   "file_extension": ".py"
  }
 },
 "nbformat": 4,
 "nbformat_minor": 1
}
